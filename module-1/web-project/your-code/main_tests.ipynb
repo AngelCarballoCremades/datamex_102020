{
 "cells": [
  {
   "cell_type": "code",
   "execution_count": 3,
   "metadata": {},
   "outputs": [
    {
     "name": "stdout",
     "output_type": "stream",
     "text": [
      "Opening Browser.\n",
      "Loading page.\n",
      "Selecting timelapse\n",
      "Waiting for file's table.\n"
     ]
    }
   ],
   "source": [
    "import os\n",
    "import pdb\n",
    "import time\n",
    "from selenium import webdriver\n",
    "from selenium.webdriver.common.keys import Keys\n",
    "from selenium.webdriver.common.by import By\n",
    "from selenium.webdriver.support.ui import WebDriverWait\n",
    "from selenium.webdriver.support import expected_conditions as EC\n",
    "\n",
    "# print([os.getcwd()])\n",
    "download_folder = 'C:\\\\Users\\\\Angel\\\\Documents\\\\Ironhack\\\\web_project'\n",
    "main_url = 'https://www.cenace.gob.mx/Paginas/SIM/Reportes/H_PreciosEnergiaSisMEM.aspx?N=6&opc=divCssPreEnergia&site=Precios%20de%20la%20energ%C3%ADa/Precios%20Marginales%20Locales/MDA/Mensuales&tipoArch=C&tipoUni=SIN&tipo=Mensuales&nombrenodop=Precios%20Marginales%20Locales'\n",
    "xpath_timelapse = '/html/body/form/div[4]/div[1]/div/div[1]/div[2]/div/table/tbody/tr/td[1]/div/ul/li[2]/div/span[3]'\n",
    "# element_dict = {'file':''}\n",
    "xpath_frame = '/html/body/form/div[4]/div[1]/div/div[1]/div[2]/div/table/tbody/tr/td[3]/div[1]/div/table/tbody/tr[{t}]/td[2]/table/tbody/tr[{r}]/td[2]/a[1]/img'\n",
    "xpath_frame_info = '/html/body/form/div[4]/div[1]/div/div[1]/div[2]/div/table/tbody/tr/td[3]/div[1]/div/table/tbody/tr[{t}]/td[2]/span'\n",
    "\n",
    "def wait_download(directorio,file_number):\n",
    "    \"\"\"Iterates while a file is being downloaded in order to download just one file at a time. To do this a file.part is searched in the download_folder directory, when it disappears, the download has finished\"\"\"\n",
    "    while directorio == os.listdir(download_folder):\n",
    "        # Waiting for the download to begin\n",
    "        pass\n",
    "\n",
    "    time.sleep(1)\n",
    "    print(f'File {file_number}.', end = '')\n",
    "\n",
    "    wait = True\n",
    "    # Looking for a .part file in download_folder directory\n",
    "    while wait:\n",
    "        wait = False\n",
    "        for file in os.listdir(download_folder):\n",
    "            if \".part\" in file:\n",
    "                time.sleep(0.5)\n",
    "                wait = True\n",
    "                print('.', end = '')\n",
    "    print('Done')\n",
    "\n",
    "profile = webdriver.FirefoxProfile()\n",
    "profile.set_preference(\"browser.download.folderList\", 2)\n",
    "profile.set_preference(\"browser.download.dir\", download_folder)\n",
    "profile.set_preference(\"browser.helperApps.neverAsk.saveToDisk\", \"application/octet-stream\")\n",
    "print('Opening Browser.')\n",
    "driver = webdriver.Firefox(firefox_profile=profile)\n",
    "\n",
    "print('Loading page.')\n",
    "driver.get(main_url)\n",
    "\n",
    "print('Selecting timelapse')\n",
    "driver.find_element_by_xpath(xpath_timelapse).click()\n",
    "\n",
    "print(\"Waiting for file's table.\")\n",
    "\n",
    "dummy = WebDriverWait(driver, 60).until(EC.presence_of_element_located((By.XPATH, xpath_frame_info.format(t=1))))\n",
    "page_html = driver.page_source"
   ]
  },
  {
   "cell_type": "code",
   "execution_count": 5,
   "metadata": {},
   "outputs": [],
   "source": [
    "from bs4 import BeautifulSoup\n",
    "\n",
    "soup = BeautifulSoup(page_html)\n",
    "\n",
    "table = soup.find('table', {'id':'products', 'class':'products'})\n",
    "\n",
    "body = table.find('tbody')\n",
    "\n",
    "len(body.find_all('tr', {'class':'expanded'}))"
   ]
  },
  {
   "cell_type": "code",
   "execution_count": null,
   "metadata": {
    "collapsed": true
   },
   "outputs": [],
   "source": []
  },
  {
   "cell_type": "code",
   "execution_count": null,
   "metadata": {},
   "outputs": [],
   "source": []
  },
  {
   "cell_type": "code",
   "execution_count": null,
   "metadata": {},
   "outputs": [],
   "source": []
  },
  {
   "cell_type": "code",
   "execution_count": null,
   "metadata": {},
   "outputs": [],
   "source": [
    "for table in range(2,73,2):\n",
    "\n",
    "    xpath_info = xpath_frame_info.format(t=table-1)\n",
    "    file_info = WebDriverWait(driver, 60).until(EC.presence_of_element_located((By.XPATH, xpath_info))).text\n",
    "    print(file_info)\n",
    "\n",
    "    for row in range(1,3):\n",
    "\n",
    "        directorio = os.listdir(download_folder)\n",
    "        xpath_file = xpath_frame.format(t=table, r=row)\n",
    "        file_button = WebDriverWait(driver, 60).until(EC.presence_of_element_located((By.XPATH, xpath_file)))\n",
    "        file_button.click()\n",
    "        wait_download(directorio,row)\n",
    "\n",
    "print(f'{len(os.listdir(download_folder))} FILES DOWNLOADED.')\n",
    "\n",
    "# Close browser\n",
    "driver.quit()"
   ]
  },
  {
   "cell_type": "code",
   "execution_count": null,
   "metadata": {},
   "outputs": [],
   "source": []
  },
  {
   "cell_type": "code",
   "execution_count": 2,
   "metadata": {},
   "outputs": [],
   "source": [
    "driver.quit()"
   ]
  },
  {
   "cell_type": "code",
   "execution_count": null,
   "metadata": {},
   "outputs": [],
   "source": []
  }
 ],
 "metadata": {
  "kernelspec": {
   "display_name": "Python 3",
   "language": "python",
   "name": "python3"
  },
  "language_info": {
   "codemirror_mode": {
    "name": "ipython",
    "version": 3
   },
   "file_extension": ".py",
   "mimetype": "text/x-python",
   "name": "python",
   "nbconvert_exporter": "python",
   "pygments_lexer": "ipython3",
   "version": "3.8.3"
  }
 },
 "nbformat": 4,
 "nbformat_minor": 4
}
