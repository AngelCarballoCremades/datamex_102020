{
 "cells": [
  {
   "cell_type": "code",
   "execution_count": 104,
   "metadata": {},
   "outputs": [],
   "source": [
    "import os\n",
    "import pdb\n",
    "import time\n",
    "from selenium import webdriver\n",
    "from selenium.webdriver.common.keys import Keys\n",
    "from selenium.webdriver.common.by import By\n",
    "from selenium.webdriver.support.ui import WebDriverWait\n",
    "from selenium.webdriver.support import expected_conditions as EC"
   ]
  },
  {
   "cell_type": "code",
   "execution_count": 105,
   "metadata": {},
   "outputs": [],
   "source": [
    "download_folder = 'C:\\\\Users\\\\Angel\\\\Desktop\\\\files'\n",
    "\n",
    "profile = webdriver.FirefoxProfile()\n",
    "profile.set_preference(\"browser.download.folderList\", 2)\n",
    "profile.set_preference(\"browser.download.dir\", download_folder)\n",
    "profile.set_preference(\"browser.helperApps.neverAsk.saveToDisk\", \"application/octet-stream\")\n",
    "\n",
    "\n",
    "driver = webdriver.Firefox(firefox_profile=profile)"
   ]
  },
  {
   "cell_type": "code",
   "execution_count": 106,
   "metadata": {},
   "outputs": [],
   "source": [
    "driver.get('https://www.cenace.gob.mx/Paginas/SIM/Reportes/H_PreciosEnergiaSisMEM.aspx?N=5&opc=divCssPreEnergia&site=Precios%20de%20la%20energ%C3%ADa/Precios%20Marginales%20Locales/MDA/Diarios&tipoArch=C&tipoUni=SIN&tipo=Diarios&nombrenodop=Precios%20Marginales%20Locales')\n",
    "# https://www.cenace.gob.mx/Paginas/SIM/Reportes/H_PreciosEnergiaSisMEM.aspx?N=6&opc=divCssPreEnergia&site=Precios%20de%20la%20energ%C3%ADa/Precios%20Marginales%20Locales/MDA/Mensuales&tipoArch=C&tipoUni=SIN&tipo=Mensuales&nombrenodop=Precios%20Marginales%20Locales\n",
    "driver.find_element_by_xpath('/html/body/form/div[4]/div[1]/div/div[1]/div[2]/div/table/tbody/tr/td[1]/div/ul/li[1]/div/span[3]').click()"
   ]
  },
  {
   "cell_type": "code",
   "execution_count": 107,
   "metadata": {},
   "outputs": [],
   "source": [
    "xpath = '/html/body/form/div[4]/div[1]/div/div[1]/div[2]/div/table/tbody/tr/td[3]/div[1]/div/table/tbody/tr[2]/td[2]/table/tbody/tr[{}]/td[2]/a[1]/img'\n"
   ]
  },
  {
   "cell_type": "code",
   "execution_count": 108,
   "metadata": {},
   "outputs": [],
   "source": [
    "# main_handle = driver.current_window_handle\n",
    "# print(main_handle)\n"
   ]
  },
  {
   "cell_type": "code",
   "execution_count": 109,
   "metadata": {},
   "outputs": [],
   "source": [
    "def wait_download(directorio,i):\n",
    "    \n",
    "    while directorio == os.listdir(download_folder):\n",
    "        pass\n",
    "\n",
    "    time.sleep(1)\n",
    "    print(f'Descargando {i}', end = '')\n",
    "\n",
    "    wait = True\n",
    "    while wait:\n",
    "        wait = False\n",
    "        for file in os.listdir(download_folder):\n",
    "            if \".part\" in file:\n",
    "                time.sleep(0.5)\n",
    "                wait = True\n",
    "                print('.', end = '')\n",
    "    print('Listo')\n"
   ]
  },
  {
   "cell_type": "code",
   "execution_count": 110,
   "metadata": {},
   "outputs": [
    {
     "name": "stdout",
     "output_type": "stream",
     "text": [
      "Inicio\n",
      "Descargando 1...Listo\n",
      "Descargando 2.Listo\n",
      "Descargando 3.Listo\n",
      "Descargando 4..Listo\n",
      "Descargando 5..Listo\n",
      "Descargando 6....Listo\n",
      "Descargando 7...Listo\n",
      "Descargando 8.Listo\n",
      "Descargando 9...Listo\n",
      "Descargando 10.......Listo\n",
      "Descargando 11.............Listo\n",
      "Descargando 12....Listo\n",
      "Descargando 13....Listo\n",
      "Descargando 14...Listo\n",
      "Descargando 15..Listo\n",
      "Descargando 16..Listo\n",
      "Descargando 17..Listo\n",
      "Descargando 18..Listo\n",
      "Descargando 19....Listo\n",
      "Descargando 20.....Listo\n",
      "Descargando 21....Listo\n",
      "Descargando 22....Listo\n",
      "Descargando 23....Listo\n",
      "Descargando 24....Listo\n",
      "Descargando 25..Listo\n",
      "Descargando 26..Listo\n",
      "Descargando 27..Listo\n",
      "Descargando 28..Listo\n",
      "Descargando 29..Listo\n",
      "Descargando 30...Listo\n",
      "Descargando 31...Listo\n",
      "Listos 31\n"
     ]
    }
   ],
   "source": [
    "print('Inicio')\n",
    "for i in range(1,32):\n",
    "    \n",
    "    file_selector = WebDriverWait(driver, 30).until(EC.presence_of_element_located((By.XPATH, xpath.format(i))))\n",
    "\n",
    "    directorio = os.listdir(download_folder)\n",
    "\n",
    "    file_selector.click()\n",
    "\n",
    "    wait_download(directorio,i)\n",
    "\n",
    "print(f'Listos {i}')\n",
    "\n",
    "driver.quit()"
   ]
  },
  {
   "cell_type": "code",
   "execution_count": null,
   "metadata": {},
   "outputs": [],
   "source": []
  },
  {
   "cell_type": "code",
   "execution_count": null,
   "metadata": {},
   "outputs": [],
   "source": []
  },
  {
   "cell_type": "code",
   "execution_count": null,
   "metadata": {},
   "outputs": [],
   "source": []
  },
  {
   "cell_type": "code",
   "execution_count": null,
   "metadata": {},
   "outputs": [],
   "source": []
  },
  {
   "cell_type": "code",
   "execution_count": null,
   "metadata": {},
   "outputs": [],
   "source": []
  },
  {
   "cell_type": "code",
   "execution_count": null,
   "metadata": {},
   "outputs": [],
   "source": []
  },
  {
   "cell_type": "code",
   "execution_count": null,
   "metadata": {},
   "outputs": [],
   "source": []
  }
 ],
 "metadata": {
  "kernelspec": {
   "display_name": "Python 3",
   "language": "python",
   "name": "python3"
  },
  "language_info": {
   "codemirror_mode": {
    "name": "ipython",
    "version": 3
   },
   "file_extension": ".py",
   "mimetype": "text/x-python",
   "name": "python",
   "nbconvert_exporter": "python",
   "pygments_lexer": "ipython3",
   "version": "3.8.3"
  }
 },
 "nbformat": 4,
 "nbformat_minor": 4
}
