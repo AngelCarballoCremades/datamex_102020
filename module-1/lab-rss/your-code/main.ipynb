{
 "cells": [
  {
   "cell_type": "markdown",
   "metadata": {},
   "source": [
    "# Working with RSS Feeds Lab\n",
    "\n",
    "Complete the following set of exercises to solidify your knowledge of parsing RSS feeds and extracting information from them."
   ]
  },
  {
   "cell_type": "code",
   "execution_count": 177,
   "metadata": {},
   "outputs": [],
   "source": [
    "import feedparser\n",
    "import re"
   ]
  },
  {
   "cell_type": "markdown",
   "metadata": {},
   "source": [
    "### 1. Use feedparser to parse the following RSS feed URL."
   ]
  },
  {
   "cell_type": "code",
   "execution_count": 178,
   "metadata": {},
   "outputs": [],
   "source": [
    "url = 'http://feeds.feedburner.com/oreilly/radar/atom'"
   ]
  },
  {
   "cell_type": "code",
   "execution_count": 179,
   "metadata": {},
   "outputs": [],
   "source": [
    "content = feedparser.parse(url)"
   ]
  },
  {
   "cell_type": "markdown",
   "metadata": {},
   "source": [
    "### 2. Obtain a list of components (keys) that are available for this feed."
   ]
  },
  {
   "cell_type": "code",
   "execution_count": 180,
   "metadata": {},
   "outputs": [
    {
     "data": {
      "text/plain": [
       "dict_keys(['feed', 'entries', 'bozo', 'headers', 'etag', 'updated', 'updated_parsed', 'href', 'status', 'encoding', 'version', 'namespaces'])"
      ]
     },
     "execution_count": 180,
     "metadata": {},
     "output_type": "execute_result"
    }
   ],
   "source": [
    "content.keys()"
   ]
  },
  {
   "cell_type": "markdown",
   "metadata": {},
   "source": [
    "### 3. Obtain a list of components (keys) that are available for the *feed* component of this RSS feed."
   ]
  },
  {
   "cell_type": "code",
   "execution_count": 181,
   "metadata": {},
   "outputs": [
    {
     "data": {
      "text/plain": [
       "dict_keys(['title', 'title_detail', 'links', 'link', 'subtitle', 'subtitle_detail', 'updated', 'updated_parsed', 'language', 'sy_updateperiod', 'sy_updatefrequency', 'generator_detail', 'generator', 'feedburner_info', 'geo_lat', 'geo_long', 'feedburner_emailserviceid', 'feedburner_feedburnerhostname'])"
      ]
     },
     "execution_count": 181,
     "metadata": {},
     "output_type": "execute_result"
    }
   ],
   "source": [
    "content['feed'].keys()"
   ]
  },
  {
   "cell_type": "markdown",
   "metadata": {},
   "source": [
    "### 4. Extract and print the feed title, subtitle, author, and link."
   ]
  },
  {
   "cell_type": "code",
   "execution_count": 182,
   "metadata": {},
   "outputs": [
    {
     "data": {
      "text/plain": [
       "['Radar',\n",
       " 'Now, next, and beyond: Tracking need-to-know trends at the intersection of business and technology',\n",
       " 'https://www.oreilly.com/radar']"
      ]
     },
     "execution_count": 182,
     "metadata": {},
     "output_type": "execute_result"
    }
   ],
   "source": [
    "data = []\n",
    "\n",
    "data.append(content['feed']['title']) \n",
    "data.append(content['feed']['subtitle'])\n",
    "# data.append(content['feed']) # author is missing from feed\n",
    "data.append(content['feed']['link'])\n",
    "data"
   ]
  },
  {
   "cell_type": "markdown",
   "metadata": {},
   "source": [
    "### 5. Count the number of entries that are contained in this RSS feed."
   ]
  },
  {
   "cell_type": "code",
   "execution_count": 183,
   "metadata": {},
   "outputs": [
    {
     "data": {
      "text/plain": [
       "60"
      ]
     },
     "execution_count": 183,
     "metadata": {},
     "output_type": "execute_result"
    }
   ],
   "source": [
    "len(content['entries'])"
   ]
  },
  {
   "cell_type": "markdown",
   "metadata": {},
   "source": [
    "### 6. Obtain a list of components (keys) available for an entry.\n",
    "\n",
    "*Hint: Remember to index first before requesting the keys*"
   ]
  },
  {
   "cell_type": "code",
   "execution_count": 184,
   "metadata": {},
   "outputs": [
    {
     "data": {
      "text/plain": [
       "dict_keys(['title', 'title_detail', 'links', 'link', 'comments', 'published', 'published_parsed', 'authors', 'author', 'author_detail', 'tags', 'id', 'guidislink', 'summary', 'summary_detail', 'content', 'wfw_commentrss', 'slash_comments', 'feedburner_origlink'])"
      ]
     },
     "execution_count": 184,
     "metadata": {},
     "output_type": "execute_result"
    }
   ],
   "source": [
    "content['entries'][0].keys()"
   ]
  },
  {
   "cell_type": "markdown",
   "metadata": {},
   "source": [
    "### 7. Extract a list of entry titles."
   ]
  },
  {
   "cell_type": "code",
   "execution_count": 185,
   "metadata": {},
   "outputs": [
    {
     "data": {
      "text/plain": [
       "['Four short links: 28 Oct 2020',\n",
       " 'Our Favorite Questions',\n",
       " 'Four short links: 21 Oct 2020',\n",
       " 'Four Short Links: 16 October 2020',\n",
       " 'Four short links: 14 Oct 2020',\n",
       " 'AI Product Management After Deployment',\n",
       " 'Four short links: 9 October 2020',\n",
       " 'AI and Creativity',\n",
       " 'Four short links: 6 October 2020',\n",
       " 'Four short links: 2 October 2020',\n",
       " 'Radar trends to watch: October 2020',\n",
       " 'Four short links: 29 Sep 2020',\n",
       " 'Four short links: 25 September 2020',\n",
       " 'Four short links: 18 Sep 2020',\n",
       " 'Four short links: 16 Sep 2020',\n",
       " 'How to Set AI Goals',\n",
       " 'Four short links: 11 Sep 2020',\n",
       " 'Four short links: 9 Sep 2020',\n",
       " 'Pair Programming with AI',\n",
       " 'Four short links: 4 September 2020',\n",
       " 'Four short links: 2 September 2020',\n",
       " 'Radar trends to watch: September 2020',\n",
       " 'Four short links: 28 August 2020',\n",
       " 'An Agent of Change',\n",
       " 'Four short links: 25 August 2020',\n",
       " 'Four short links: 21 August 2020',\n",
       " 'Four Short Links: 19 August 2020',\n",
       " 'Why Best-of-Breed is a Better Choice than All-in-One Platforms for Data Science',\n",
       " 'Four short links: 14 August 2020',\n",
       " 'The Least Liked Programming Languages',\n",
       " 'Four short links: 11 Aug 2020',\n",
       " 'Four short links: 7 Aug 2020',\n",
       " 'Four short links: 5 August 2020',\n",
       " 'Radar trends to watch: August 2020',\n",
       " 'Four short links: 31 July 2020',\n",
       " 'Four short links: 30 July 2020',\n",
       " 'Four short links: 29 July 2020',\n",
       " 'Bringing an AI Product to Market',\n",
       " 'Power, Harms, and Data',\n",
       " 'Four short links: 27 July 2020',\n",
       " 'Four short links: 24 July 2020',\n",
       " 'Four short links: 26 July 2020',\n",
       " 'Four short links: 22 July 2020',\n",
       " 'AI, Protests, and Justice',\n",
       " 'Four short links: 21 July 2020',\n",
       " 'Four short links: 20 July 2020',\n",
       " 'Four short links: 17 July 2020',\n",
       " 'Four short links: 16 July 2020',\n",
       " 'Microservices Adoption in 2020',\n",
       " 'Four short links: 15 July 2020',\n",
       " 'Society-Centered Design',\n",
       " 'Four short links: 14 July 2020',\n",
       " 'Four short links: 13 July 2020',\n",
       " 'Four short links: 10 July 2020',\n",
       " 'Automated Coding and the Future of Programming',\n",
       " 'Four short links: 9 July 2020',\n",
       " 'Four short links: 8 July 2020',\n",
       " 'Four short links: 7 July 2020',\n",
       " 'Four short links: 6 July 2020',\n",
       " 'Four short links: 3 July 2020']"
      ]
     },
     "execution_count": 185,
     "metadata": {},
     "output_type": "execute_result"
    }
   ],
   "source": [
    "titles = [entry['title'] for entry in content['entries']]\n",
    "titles"
   ]
  },
  {
   "cell_type": "markdown",
   "metadata": {},
   "source": [
    "### 8. Calculate the percentage of \"Four short links\" entry titles."
   ]
  },
  {
   "cell_type": "code",
   "execution_count": 186,
   "metadata": {},
   "outputs": [
    {
     "name": "stdout",
     "output_type": "stream",
     "text": [
      "68.33 %\n"
     ]
    }
   ],
   "source": [
    "x = 0\n",
    "for title in titles:\n",
    "    if 'Four short links' in title:\n",
    "        x += 1\n",
    "\n",
    "p = 100*x/len(titles)\n",
    "print(f'{round(p,2)} %')"
   ]
  },
  {
   "cell_type": "markdown",
   "metadata": {},
   "source": [
    "### 9. Create a Pandas data frame from the feed's entries."
   ]
  },
  {
   "cell_type": "code",
   "execution_count": 187,
   "metadata": {},
   "outputs": [],
   "source": [
    "import pandas as pd\n",
    "from pandas.io.json import json_normalize"
   ]
  },
  {
   "cell_type": "code",
   "execution_count": 188,
   "metadata": {},
   "outputs": [
    {
     "data": {
      "text/html": [
       "<div>\n",
       "<style scoped>\n",
       "    .dataframe tbody tr th:only-of-type {\n",
       "        vertical-align: middle;\n",
       "    }\n",
       "\n",
       "    .dataframe tbody tr th {\n",
       "        vertical-align: top;\n",
       "    }\n",
       "\n",
       "    .dataframe thead th {\n",
       "        text-align: right;\n",
       "    }\n",
       "</style>\n",
       "<table border=\"1\" class=\"dataframe\">\n",
       "  <thead>\n",
       "    <tr style=\"text-align: right;\">\n",
       "      <th></th>\n",
       "      <th>title</th>\n",
       "      <th>links</th>\n",
       "      <th>link</th>\n",
       "      <th>comments</th>\n",
       "      <th>published</th>\n",
       "      <th>published_parsed</th>\n",
       "      <th>authors</th>\n",
       "      <th>author</th>\n",
       "      <th>tags</th>\n",
       "      <th>id</th>\n",
       "      <th>...</th>\n",
       "      <th>feedburner_origlink</th>\n",
       "      <th>title_detail.type</th>\n",
       "      <th>title_detail.language</th>\n",
       "      <th>title_detail.base</th>\n",
       "      <th>title_detail.value</th>\n",
       "      <th>author_detail.name</th>\n",
       "      <th>summary_detail.type</th>\n",
       "      <th>summary_detail.language</th>\n",
       "      <th>summary_detail.base</th>\n",
       "      <th>summary_detail.value</th>\n",
       "    </tr>\n",
       "  </thead>\n",
       "  <tbody>\n",
       "    <tr>\n",
       "      <th>0</th>\n",
       "      <td>Four short links: 28 Oct 2020</td>\n",
       "      <td>[{'rel': 'alternate', 'type': 'text/html', 'hr...</td>\n",
       "      <td>http://feedproxy.google.com/~r/oreilly/radar/a...</td>\n",
       "      <td>https://www.oreilly.com/radar/four-short-links...</td>\n",
       "      <td>Wed, 28 Oct 2020 11:39:13 +0000</td>\n",
       "      <td>(2020, 10, 28, 11, 39, 13, 2, 302, 0)</td>\n",
       "      <td>[{'name': 'Nat Torkington'}]</td>\n",
       "      <td>Nat Torkington</td>\n",
       "      <td>[{'term': 'Four Short Links', 'scheme': None, ...</td>\n",
       "      <td>https://www.oreilly.com/radar/?p=13382</td>\n",
       "      <td>...</td>\n",
       "      <td>https://www.oreilly.com/radar/four-short-links...</td>\n",
       "      <td>text/plain</td>\n",
       "      <td>None</td>\n",
       "      <td>http://feeds.feedburner.com/oreilly/radar/atom</td>\n",
       "      <td>Four short links: 28 Oct 2020</td>\n",
       "      <td>Nat Torkington</td>\n",
       "      <td>text/html</td>\n",
       "      <td>None</td>\n",
       "      <td>http://feeds.feedburner.com/oreilly/radar/atom</td>\n",
       "      <td>Phantom of the ADAS &amp;#8212; In this paper, we ...</td>\n",
       "    </tr>\n",
       "    <tr>\n",
       "      <th>1</th>\n",
       "      <td>Our Favorite Questions</td>\n",
       "      <td>[{'rel': 'alternate', 'type': 'text/html', 'hr...</td>\n",
       "      <td>http://feedproxy.google.com/~r/oreilly/radar/a...</td>\n",
       "      <td>https://www.oreilly.com/radar/our-favorite-que...</td>\n",
       "      <td>Thu, 22 Oct 2020 14:33:17 +0000</td>\n",
       "      <td>(2020, 10, 22, 14, 33, 17, 3, 296, 0)</td>\n",
       "      <td>[{'name': 'Q Ethan McCallum, Chris Butler and ...</td>\n",
       "      <td>Q Ethan McCallum, Chris Butler and Shane Glynn</td>\n",
       "      <td>[{'term': 'AI &amp; ML', 'scheme': None, 'label': ...</td>\n",
       "      <td>https://www.oreilly.com/radar/?p=13374</td>\n",
       "      <td>...</td>\n",
       "      <td>https://www.oreilly.com/radar/our-favorite-que...</td>\n",
       "      <td>text/plain</td>\n",
       "      <td>None</td>\n",
       "      <td>http://feeds.feedburner.com/oreilly/radar/atom</td>\n",
       "      <td>Our Favorite Questions</td>\n",
       "      <td>Q Ethan McCallum, Chris Butler and Shane Glynn</td>\n",
       "      <td>text/html</td>\n",
       "      <td>None</td>\n",
       "      <td>http://feeds.feedburner.com/oreilly/radar/atom</td>\n",
       "      <td>&amp;#8220;On peut interroger n&amp;#8217;importe qui,...</td>\n",
       "    </tr>\n",
       "    <tr>\n",
       "      <th>2</th>\n",
       "      <td>Four short links: 21 Oct 2020</td>\n",
       "      <td>[{'rel': 'alternate', 'type': 'text/html', 'hr...</td>\n",
       "      <td>http://feedproxy.google.com/~r/oreilly/radar/a...</td>\n",
       "      <td>https://www.oreilly.com/radar/four-short-links...</td>\n",
       "      <td>Wed, 21 Oct 2020 11:34:42 +0000</td>\n",
       "      <td>(2020, 10, 21, 11, 34, 42, 2, 295, 0)</td>\n",
       "      <td>[{'name': 'Nat Torkington'}]</td>\n",
       "      <td>Nat Torkington</td>\n",
       "      <td>[{'term': 'Four Short Links', 'scheme': None, ...</td>\n",
       "      <td>https://www.oreilly.com/radar/?p=13376</td>\n",
       "      <td>...</td>\n",
       "      <td>https://www.oreilly.com/radar/four-short-links...</td>\n",
       "      <td>text/plain</td>\n",
       "      <td>None</td>\n",
       "      <td>http://feeds.feedburner.com/oreilly/radar/atom</td>\n",
       "      <td>Four short links: 21 Oct 2020</td>\n",
       "      <td>Nat Torkington</td>\n",
       "      <td>text/html</td>\n",
       "      <td>None</td>\n",
       "      <td>http://feeds.feedburner.com/oreilly/radar/atom</td>\n",
       "      <td>Justice Department Antitrust Filing Against Go...</td>\n",
       "    </tr>\n",
       "    <tr>\n",
       "      <th>3</th>\n",
       "      <td>Four Short Links: 16 October 2020</td>\n",
       "      <td>[{'rel': 'alternate', 'type': 'text/html', 'hr...</td>\n",
       "      <td>http://feedproxy.google.com/~r/oreilly/radar/a...</td>\n",
       "      <td>https://www.oreilly.com/radar/four-short-links...</td>\n",
       "      <td>Fri, 16 Oct 2020 11:21:43 +0000</td>\n",
       "      <td>(2020, 10, 16, 11, 21, 43, 4, 290, 0)</td>\n",
       "      <td>[{}]</td>\n",
       "      <td></td>\n",
       "      <td>NaN</td>\n",
       "      <td>https://www.oreilly.com/radar/?p=13371</td>\n",
       "      <td>...</td>\n",
       "      <td>https://www.oreilly.com/radar/four-short-links...</td>\n",
       "      <td>text/plain</td>\n",
       "      <td>None</td>\n",
       "      <td>http://feeds.feedburner.com/oreilly/radar/atom</td>\n",
       "      <td>Four Short Links: 16 October 2020</td>\n",
       "      <td>NaN</td>\n",
       "      <td>text/html</td>\n",
       "      <td>None</td>\n",
       "      <td>http://feeds.feedburner.com/oreilly/radar/atom</td>\n",
       "      <td>Automerge &amp;#8212; (Github) Data structure libr...</td>\n",
       "    </tr>\n",
       "    <tr>\n",
       "      <th>4</th>\n",
       "      <td>Four short links: 14 Oct 2020</td>\n",
       "      <td>[{'rel': 'alternate', 'type': 'text/html', 'hr...</td>\n",
       "      <td>http://feedproxy.google.com/~r/oreilly/radar/a...</td>\n",
       "      <td>https://www.oreilly.com/radar/four-short-links...</td>\n",
       "      <td>Wed, 14 Oct 2020 11:46:08 +0000</td>\n",
       "      <td>(2020, 10, 14, 11, 46, 8, 2, 288, 0)</td>\n",
       "      <td>[{'name': 'Nat Torkington'}]</td>\n",
       "      <td>Nat Torkington</td>\n",
       "      <td>[{'term': 'Four Short Links', 'scheme': None, ...</td>\n",
       "      <td>https://www.oreilly.com/radar/?p=13367</td>\n",
       "      <td>...</td>\n",
       "      <td>https://www.oreilly.com/radar/four-short-links...</td>\n",
       "      <td>text/plain</td>\n",
       "      <td>None</td>\n",
       "      <td>http://feeds.feedburner.com/oreilly/radar/atom</td>\n",
       "      <td>Four short links: 14 Oct 2020</td>\n",
       "      <td>Nat Torkington</td>\n",
       "      <td>text/html</td>\n",
       "      <td>None</td>\n",
       "      <td>http://feeds.feedburner.com/oreilly/radar/atom</td>\n",
       "      <td>Data Organization in Spreadsheets &amp;#8212; Focu...</td>\n",
       "    </tr>\n",
       "  </tbody>\n",
       "</table>\n",
       "<p>5 rows × 25 columns</p>\n",
       "</div>"
      ],
      "text/plain": [
       "                               title  \\\n",
       "0      Four short links: 28 Oct 2020   \n",
       "1             Our Favorite Questions   \n",
       "2      Four short links: 21 Oct 2020   \n",
       "3  Four Short Links: 16 October 2020   \n",
       "4      Four short links: 14 Oct 2020   \n",
       "\n",
       "                                               links  \\\n",
       "0  [{'rel': 'alternate', 'type': 'text/html', 'hr...   \n",
       "1  [{'rel': 'alternate', 'type': 'text/html', 'hr...   \n",
       "2  [{'rel': 'alternate', 'type': 'text/html', 'hr...   \n",
       "3  [{'rel': 'alternate', 'type': 'text/html', 'hr...   \n",
       "4  [{'rel': 'alternate', 'type': 'text/html', 'hr...   \n",
       "\n",
       "                                                link  \\\n",
       "0  http://feedproxy.google.com/~r/oreilly/radar/a...   \n",
       "1  http://feedproxy.google.com/~r/oreilly/radar/a...   \n",
       "2  http://feedproxy.google.com/~r/oreilly/radar/a...   \n",
       "3  http://feedproxy.google.com/~r/oreilly/radar/a...   \n",
       "4  http://feedproxy.google.com/~r/oreilly/radar/a...   \n",
       "\n",
       "                                            comments  \\\n",
       "0  https://www.oreilly.com/radar/four-short-links...   \n",
       "1  https://www.oreilly.com/radar/our-favorite-que...   \n",
       "2  https://www.oreilly.com/radar/four-short-links...   \n",
       "3  https://www.oreilly.com/radar/four-short-links...   \n",
       "4  https://www.oreilly.com/radar/four-short-links...   \n",
       "\n",
       "                         published                       published_parsed  \\\n",
       "0  Wed, 28 Oct 2020 11:39:13 +0000  (2020, 10, 28, 11, 39, 13, 2, 302, 0)   \n",
       "1  Thu, 22 Oct 2020 14:33:17 +0000  (2020, 10, 22, 14, 33, 17, 3, 296, 0)   \n",
       "2  Wed, 21 Oct 2020 11:34:42 +0000  (2020, 10, 21, 11, 34, 42, 2, 295, 0)   \n",
       "3  Fri, 16 Oct 2020 11:21:43 +0000  (2020, 10, 16, 11, 21, 43, 4, 290, 0)   \n",
       "4  Wed, 14 Oct 2020 11:46:08 +0000   (2020, 10, 14, 11, 46, 8, 2, 288, 0)   \n",
       "\n",
       "                                             authors  \\\n",
       "0                       [{'name': 'Nat Torkington'}]   \n",
       "1  [{'name': 'Q Ethan McCallum, Chris Butler and ...   \n",
       "2                       [{'name': 'Nat Torkington'}]   \n",
       "3                                               [{}]   \n",
       "4                       [{'name': 'Nat Torkington'}]   \n",
       "\n",
       "                                           author  \\\n",
       "0                                  Nat Torkington   \n",
       "1  Q Ethan McCallum, Chris Butler and Shane Glynn   \n",
       "2                                  Nat Torkington   \n",
       "3                                                   \n",
       "4                                  Nat Torkington   \n",
       "\n",
       "                                                tags  \\\n",
       "0  [{'term': 'Four Short Links', 'scheme': None, ...   \n",
       "1  [{'term': 'AI & ML', 'scheme': None, 'label': ...   \n",
       "2  [{'term': 'Four Short Links', 'scheme': None, ...   \n",
       "3                                                NaN   \n",
       "4  [{'term': 'Four Short Links', 'scheme': None, ...   \n",
       "\n",
       "                                       id  ...  \\\n",
       "0  https://www.oreilly.com/radar/?p=13382  ...   \n",
       "1  https://www.oreilly.com/radar/?p=13374  ...   \n",
       "2  https://www.oreilly.com/radar/?p=13376  ...   \n",
       "3  https://www.oreilly.com/radar/?p=13371  ...   \n",
       "4  https://www.oreilly.com/radar/?p=13367  ...   \n",
       "\n",
       "                                 feedburner_origlink title_detail.type  \\\n",
       "0  https://www.oreilly.com/radar/four-short-links...        text/plain   \n",
       "1  https://www.oreilly.com/radar/our-favorite-que...        text/plain   \n",
       "2  https://www.oreilly.com/radar/four-short-links...        text/plain   \n",
       "3  https://www.oreilly.com/radar/four-short-links...        text/plain   \n",
       "4  https://www.oreilly.com/radar/four-short-links...        text/plain   \n",
       "\n",
       "  title_detail.language                               title_detail.base  \\\n",
       "0                  None  http://feeds.feedburner.com/oreilly/radar/atom   \n",
       "1                  None  http://feeds.feedburner.com/oreilly/radar/atom   \n",
       "2                  None  http://feeds.feedburner.com/oreilly/radar/atom   \n",
       "3                  None  http://feeds.feedburner.com/oreilly/radar/atom   \n",
       "4                  None  http://feeds.feedburner.com/oreilly/radar/atom   \n",
       "\n",
       "                  title_detail.value  \\\n",
       "0      Four short links: 28 Oct 2020   \n",
       "1             Our Favorite Questions   \n",
       "2      Four short links: 21 Oct 2020   \n",
       "3  Four Short Links: 16 October 2020   \n",
       "4      Four short links: 14 Oct 2020   \n",
       "\n",
       "                               author_detail.name summary_detail.type  \\\n",
       "0                                  Nat Torkington           text/html   \n",
       "1  Q Ethan McCallum, Chris Butler and Shane Glynn           text/html   \n",
       "2                                  Nat Torkington           text/html   \n",
       "3                                             NaN           text/html   \n",
       "4                                  Nat Torkington           text/html   \n",
       "\n",
       "  summary_detail.language                             summary_detail.base  \\\n",
       "0                    None  http://feeds.feedburner.com/oreilly/radar/atom   \n",
       "1                    None  http://feeds.feedburner.com/oreilly/radar/atom   \n",
       "2                    None  http://feeds.feedburner.com/oreilly/radar/atom   \n",
       "3                    None  http://feeds.feedburner.com/oreilly/radar/atom   \n",
       "4                    None  http://feeds.feedburner.com/oreilly/radar/atom   \n",
       "\n",
       "                                summary_detail.value  \n",
       "0  Phantom of the ADAS &#8212; In this paper, we ...  \n",
       "1  &#8220;On peut interroger n&#8217;importe qui,...  \n",
       "2  Justice Department Antitrust Filing Against Go...  \n",
       "3  Automerge &#8212; (Github) Data structure libr...  \n",
       "4  Data Organization in Spreadsheets &#8212; Focu...  \n",
       "\n",
       "[5 rows x 25 columns]"
      ]
     },
     "execution_count": 188,
     "metadata": {},
     "output_type": "execute_result"
    }
   ],
   "source": [
    "df = pd.json_normalize(content['entries'])\n",
    "df.head()"
   ]
  },
  {
   "cell_type": "code",
   "execution_count": null,
   "metadata": {},
   "outputs": [],
   "source": []
  },
  {
   "cell_type": "markdown",
   "metadata": {},
   "source": [
    "### 10. Count the number of entries per author and sort them in descending order."
   ]
  },
  {
   "cell_type": "code",
   "execution_count": 189,
   "metadata": {},
   "outputs": [
    {
     "data": {
      "text/plain": [
       "Nat Torkington                                      42\n",
       "Mike Loukides                                        9\n",
       "Justin Norman, Peter Skomoroch and Mike Loukides     1\n",
       "Justin Norman and Mike Loukides                      1\n",
       "Q Ethan McCallum and Mike Loukides                   1\n",
       "Sarah Gold                                           1\n",
       "Matthew Rocklin and Hugo Bowne-Anderson              1\n",
       "Q Ethan McCallum, Chris Butler and Shane Glynn       1\n",
       "Mike Loukides and Steve Swoyer                       1\n",
       "Alex Castrounis                                      1\n",
       "                                                     1\n",
       "Name: author, dtype: int64"
      ]
     },
     "execution_count": 189,
     "metadata": {},
     "output_type": "execute_result"
    }
   ],
   "source": [
    "df['author'].value_counts() # Not valid"
   ]
  },
  {
   "cell_type": "code",
   "execution_count": 190,
   "metadata": {},
   "outputs": [],
   "source": [
    "authors = df['author_detail.name'].astype('str').tolist()"
   ]
  },
  {
   "cell_type": "code",
   "execution_count": 191,
   "metadata": {},
   "outputs": [],
   "source": [
    "a = []\n",
    "row = []\n",
    "for entry in authors:\n",
    "    row = []\n",
    "    for i in entry.split(', '):\n",
    "        row.extend(i.split(' and '))\n",
    "    a.extend(row)\n",
    "# a_set = set([i for i in a if i != 'nan'])\n",
    "a_set = set(a)"
   ]
  },
  {
   "cell_type": "code",
   "execution_count": 192,
   "metadata": {},
   "outputs": [
    {
     "data": {
      "text/html": [
       "<div>\n",
       "<style scoped>\n",
       "    .dataframe tbody tr th:only-of-type {\n",
       "        vertical-align: middle;\n",
       "    }\n",
       "\n",
       "    .dataframe tbody tr th {\n",
       "        vertical-align: top;\n",
       "    }\n",
       "\n",
       "    .dataframe thead th {\n",
       "        text-align: right;\n",
       "    }\n",
       "</style>\n",
       "<table border=\"1\" class=\"dataframe\">\n",
       "  <thead>\n",
       "    <tr style=\"text-align: right;\">\n",
       "      <th></th>\n",
       "      <th>Appearances</th>\n",
       "    </tr>\n",
       "    <tr>\n",
       "      <th>Author</th>\n",
       "      <th></th>\n",
       "    </tr>\n",
       "  </thead>\n",
       "  <tbody>\n",
       "    <tr>\n",
       "      <th>Nat Torkington</th>\n",
       "      <td>42</td>\n",
       "    </tr>\n",
       "    <tr>\n",
       "      <th>Mike Loukides</th>\n",
       "      <td>13</td>\n",
       "    </tr>\n",
       "    <tr>\n",
       "      <th>Justin Norman</th>\n",
       "      <td>2</td>\n",
       "    </tr>\n",
       "    <tr>\n",
       "      <th>Q Ethan McCallum</th>\n",
       "      <td>2</td>\n",
       "    </tr>\n",
       "    <tr>\n",
       "      <th>Chris Butler</th>\n",
       "      <td>1</td>\n",
       "    </tr>\n",
       "    <tr>\n",
       "      <th>Matthew Rocklin</th>\n",
       "      <td>1</td>\n",
       "    </tr>\n",
       "    <tr>\n",
       "      <th>nan</th>\n",
       "      <td>1</td>\n",
       "    </tr>\n",
       "    <tr>\n",
       "      <th>Sarah Gold</th>\n",
       "      <td>1</td>\n",
       "    </tr>\n",
       "    <tr>\n",
       "      <th>Alex Castrounis</th>\n",
       "      <td>1</td>\n",
       "    </tr>\n",
       "    <tr>\n",
       "      <th>Shane Glynn</th>\n",
       "      <td>1</td>\n",
       "    </tr>\n",
       "    <tr>\n",
       "      <th>Peter Skomoroch</th>\n",
       "      <td>1</td>\n",
       "    </tr>\n",
       "    <tr>\n",
       "      <th>Steve Swoyer</th>\n",
       "      <td>1</td>\n",
       "    </tr>\n",
       "    <tr>\n",
       "      <th>Hugo Bowne-Anderson</th>\n",
       "      <td>1</td>\n",
       "    </tr>\n",
       "  </tbody>\n",
       "</table>\n",
       "</div>"
      ],
      "text/plain": [
       "                     Appearances\n",
       "Author                          \n",
       "Nat Torkington                42\n",
       "Mike Loukides                 13\n",
       "Justin Norman                  2\n",
       "Q Ethan McCallum               2\n",
       "Chris Butler                   1\n",
       "Matthew Rocklin                1\n",
       "nan                            1\n",
       "Sarah Gold                     1\n",
       "Alex Castrounis                1\n",
       "Shane Glynn                    1\n",
       "Peter Skomoroch                1\n",
       "Steve Swoyer                   1\n",
       "Hugo Bowne-Anderson            1"
      ]
     },
     "execution_count": 192,
     "metadata": {},
     "output_type": "execute_result"
    }
   ],
   "source": [
    "c = []\n",
    "for author in a_set:\n",
    "    c.append((author,a.count(author)))\n",
    "c.sort(key = lambda x: x[1], reverse = True)\n",
    "\n",
    "c = pd.DataFrame(c)\n",
    "c.columns = ['Author','Appearances']\n",
    "c.set_index('Author')"
   ]
  },
  {
   "cell_type": "markdown",
   "metadata": {},
   "source": [
    "### 11. Add a new column to the data frame that contains the length (number of characters) of each entry title. Return a data frame that contains the title, author, and title length of each entry in descending order (longest title length at the top)."
   ]
  },
  {
   "cell_type": "code",
   "execution_count": 193,
   "metadata": {},
   "outputs": [],
   "source": [
    "df['title'] = df['title'].astype('str')"
   ]
  },
  {
   "cell_type": "code",
   "execution_count": 194,
   "metadata": {},
   "outputs": [],
   "source": [
    "df['title_length'] = df['title'].apply(lambda x: len(x))"
   ]
  },
  {
   "cell_type": "code",
   "execution_count": 195,
   "metadata": {},
   "outputs": [],
   "source": [
    "df2 = df[['title','author','title_length']]"
   ]
  },
  {
   "cell_type": "code",
   "execution_count": 196,
   "metadata": {},
   "outputs": [
    {
     "data": {
      "text/html": [
       "<div>\n",
       "<style scoped>\n",
       "    .dataframe tbody tr th:only-of-type {\n",
       "        vertical-align: middle;\n",
       "    }\n",
       "\n",
       "    .dataframe tbody tr th {\n",
       "        vertical-align: top;\n",
       "    }\n",
       "\n",
       "    .dataframe thead th {\n",
       "        text-align: right;\n",
       "    }\n",
       "</style>\n",
       "<table border=\"1\" class=\"dataframe\">\n",
       "  <thead>\n",
       "    <tr style=\"text-align: right;\">\n",
       "      <th></th>\n",
       "      <th>title</th>\n",
       "      <th>author</th>\n",
       "      <th>title_length</th>\n",
       "    </tr>\n",
       "  </thead>\n",
       "  <tbody>\n",
       "    <tr>\n",
       "      <th>27</th>\n",
       "      <td>Why Best-of-Breed is a Better Choice than All-...</td>\n",
       "      <td>Matthew Rocklin and Hugo Bowne-Anderson</td>\n",
       "      <td>79</td>\n",
       "    </tr>\n",
       "    <tr>\n",
       "      <th>54</th>\n",
       "      <td>Automated Coding and the Future of Programming</td>\n",
       "      <td>Mike Loukides</td>\n",
       "      <td>46</td>\n",
       "    </tr>\n",
       "    <tr>\n",
       "      <th>5</th>\n",
       "      <td>AI Product Management After Deployment</td>\n",
       "      <td>Justin Norman and Mike Loukides</td>\n",
       "      <td>38</td>\n",
       "    </tr>\n",
       "    <tr>\n",
       "      <th>21</th>\n",
       "      <td>Radar trends to watch: September 2020</td>\n",
       "      <td>Mike Loukides</td>\n",
       "      <td>37</td>\n",
       "    </tr>\n",
       "    <tr>\n",
       "      <th>29</th>\n",
       "      <td>The Least Liked Programming Languages</td>\n",
       "      <td>Mike Loukides</td>\n",
       "      <td>37</td>\n",
       "    </tr>\n",
       "  </tbody>\n",
       "</table>\n",
       "</div>"
      ],
      "text/plain": [
       "                                                title  \\\n",
       "27  Why Best-of-Breed is a Better Choice than All-...   \n",
       "54     Automated Coding and the Future of Programming   \n",
       "5              AI Product Management After Deployment   \n",
       "21              Radar trends to watch: September 2020   \n",
       "29              The Least Liked Programming Languages   \n",
       "\n",
       "                                     author  title_length  \n",
       "27  Matthew Rocklin and Hugo Bowne-Anderson            79  \n",
       "54                            Mike Loukides            46  \n",
       "5           Justin Norman and Mike Loukides            38  \n",
       "21                            Mike Loukides            37  \n",
       "29                            Mike Loukides            37  "
      ]
     },
     "execution_count": 196,
     "metadata": {},
     "output_type": "execute_result"
    }
   ],
   "source": [
    "df3 = df2.sort_values(by='title_length', ascending = False)\n",
    "df3.head()"
   ]
  },
  {
   "cell_type": "markdown",
   "metadata": {},
   "source": [
    "### 12. Create a list of entry titles whose summary includes the phrase \"machine learning.\""
   ]
  },
  {
   "cell_type": "code",
   "execution_count": 197,
   "metadata": {},
   "outputs": [],
   "source": [
    "df['summary_detail.value'] = df['summary_detail.value'].astype('str')"
   ]
  },
  {
   "cell_type": "code",
   "execution_count": 198,
   "metadata": {},
   "outputs": [],
   "source": [
    "# cleaning strange strings like &#8561;\n",
    "df['summary_detail.value'] = df['summary_detail.value'].apply(lambda x: re.sub('.{2}\\d*;','',x))"
   ]
  },
  {
   "cell_type": "code",
   "execution_count": 199,
   "metadata": {},
   "outputs": [],
   "source": [
    "df4 = df.loc[df['summary_detail.value'].apply(lambda x: 'machine learning' in x.lower())]"
   ]
  },
  {
   "cell_type": "code",
   "execution_count": 200,
   "metadata": {},
   "outputs": [
    {
     "data": {
      "text/plain": [
       "['Four short links: 21 August 2020', 'Four short links: 8 July 2020']"
      ]
     },
     "execution_count": 200,
     "metadata": {},
     "output_type": "execute_result"
    }
   ],
   "source": [
    "lista = df4['title'].tolist()\n",
    "lista"
   ]
  }
 ],
 "metadata": {
  "kernelspec": {
   "display_name": "Python 3",
   "language": "python",
   "name": "python3"
  },
  "language_info": {
   "codemirror_mode": {
    "name": "ipython",
    "version": 3
   },
   "file_extension": ".py",
   "mimetype": "text/x-python",
   "name": "python",
   "nbconvert_exporter": "python",
   "pygments_lexer": "ipython3",
   "version": "3.8.3"
  }
 },
 "nbformat": 4,
 "nbformat_minor": 2
}
