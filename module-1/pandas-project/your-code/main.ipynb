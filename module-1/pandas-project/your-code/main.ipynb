{
 "cells": [
  {
   "cell_type": "code",
   "execution_count": 1,
   "metadata": {},
   "outputs": [],
   "source": [
    "import pandas as pd\n",
    "import numpy as np\n",
    "import re\n",
    "from random import choice\n",
    "import datetime"
   ]
  },
  {
   "cell_type": "code",
   "execution_count": 2,
   "metadata": {},
   "outputs": [],
   "source": [
    "df = pd.read_csv('attacks.csv', encoding = \"ISO-8859-1\")"
   ]
  },
  {
   "cell_type": "code",
   "execution_count": 3,
   "metadata": {},
   "outputs": [],
   "source": [
    "# df.info()"
   ]
  },
  {
   "cell_type": "code",
   "execution_count": 4,
   "metadata": {},
   "outputs": [],
   "source": [
    "# Droping last 2 cols because they contain almost no information 99% is null\n",
    "df.drop(columns = ['Unnamed: 22','Unnamed: 23'], inplace = True)"
   ]
  },
  {
   "cell_type": "code",
   "execution_count": 5,
   "metadata": {},
   "outputs": [],
   "source": [
    "# df.info()"
   ]
  },
  {
   "cell_type": "code",
   "execution_count": 6,
   "metadata": {},
   "outputs": [],
   "source": [
    "# It can be seen that rows without case number are null in every column\n",
    "# df.loc[df['Case Number'].isnull()].info()\n"
   ]
  },
  {
   "cell_type": "code",
   "execution_count": 7,
   "metadata": {},
   "outputs": [],
   "source": [
    "# droping no-Case Number rows\n",
    "df = df.loc[df['Case Number'].notnull()]"
   ]
  },
  {
   "cell_type": "code",
   "execution_count": 8,
   "metadata": {},
   "outputs": [],
   "source": [
    "# there are lots or rows empty, only with Case Number, I will delete those.\n",
    "# df.loc[df['Date'].isnull()].info()"
   ]
  },
  {
   "cell_type": "code",
   "execution_count": 9,
   "metadata": {},
   "outputs": [],
   "source": [
    "df = df.loc[df['Date'].notnull()]"
   ]
  },
  {
   "cell_type": "code",
   "execution_count": 10,
   "metadata": {},
   "outputs": [],
   "source": [
    "# Now we have mostly rows with information, but some cleaning will continue.\n",
    "# df.info()"
   ]
  },
  {
   "cell_type": "code",
   "execution_count": 11,
   "metadata": {},
   "outputs": [],
   "source": [
    "# Analyzing Type column...\n",
    "df['Type'] = df['Type'].astype('str')\n",
    "# df['Type'].value_counts()"
   ]
  },
  {
   "cell_type": "code",
   "execution_count": 12,
   "metadata": {},
   "outputs": [],
   "source": [
    "# boatomg, boating and boat shoul be the same\n",
    "df['Type'] = df['Type'].apply(lambda x: re.sub('Boat.+','Boat',x))"
   ]
  },
  {
   "cell_type": "code",
   "execution_count": 13,
   "metadata": {},
   "outputs": [],
   "source": [
    "# Sea disaster is not provoked by someone, so it should be an unprovoked incident\n",
    "df['Type'] = df['Type'].apply(lambda x: re.sub('Sea Disaster','Unprovoked',x))"
   ]
  },
  {
   "cell_type": "code",
   "execution_count": 14,
   "metadata": {},
   "outputs": [],
   "source": [
    "# nan and Questionable can be deleted because there are only 6 and add no value\n",
    "df = df.loc[df['Type'].apply(lambda x: False if x in ['nan','Questionable'] else True)]"
   ]
  },
  {
   "cell_type": "code",
   "execution_count": 15,
   "metadata": {},
   "outputs": [],
   "source": [
    "# df['Type'].value_counts()"
   ]
  },
  {
   "cell_type": "code",
   "execution_count": 16,
   "metadata": {},
   "outputs": [],
   "source": [
    "# In Boat incident and invalid incident it is unknown if it was provoked or not, so I will join them in unknown\n",
    "df['Type'] = df['Type'].apply(lambda x: re.sub('Boat|Invalid','Unknown',x))"
   ]
  },
  {
   "cell_type": "code",
   "execution_count": 17,
   "metadata": {},
   "outputs": [],
   "source": [
    "# Type column clean\n",
    "# df['Type'].value_counts()"
   ]
  },
  {
   "cell_type": "code",
   "execution_count": 18,
   "metadata": {},
   "outputs": [],
   "source": [
    "# Country column\n",
    "df['Country'] = df['Country'].astype('str')"
   ]
  },
  {
   "cell_type": "code",
   "execution_count": 19,
   "metadata": {},
   "outputs": [],
   "source": [
    "# All countries in caps\n",
    "df['Country'] = df['Country'].apply(lambda x: x.upper())"
   ]
  },
  {
   "cell_type": "code",
   "execution_count": 20,
   "metadata": {},
   "outputs": [],
   "source": [
    "df['Country'] = df['Country'].apply(lambda x: re.sub('.*SRI LANKA.*','SRI LANKA',x) if re.sub('.*SRI LANKA.*','SRI LANKA',x) else x)"
   ]
  },
  {
   "cell_type": "code",
   "execution_count": 21,
   "metadata": {},
   "outputs": [],
   "source": [
    "# removing extra white spaces from both ends\n",
    "df['Country'] = df['Country'].apply(lambda x: x.strip())"
   ]
  },
  {
   "cell_type": "code",
   "execution_count": 22,
   "metadata": {},
   "outputs": [],
   "source": [
    "# Country column done\n",
    "# df['Country'].value_counts()"
   ]
  },
  {
   "cell_type": "code",
   "execution_count": 23,
   "metadata": {},
   "outputs": [],
   "source": [
    "# df.info()"
   ]
  },
  {
   "cell_type": "code",
   "execution_count": 24,
   "metadata": {},
   "outputs": [],
   "source": [
    "# df['Area'].value_counts()"
   ]
  },
  {
   "cell_type": "code",
   "execution_count": 25,
   "metadata": {},
   "outputs": [],
   "source": [
    "# cleaning Area column like Country col\n",
    "df['Area'] = df['Area'].astype('str')\n",
    "df['Area'] = df['Area'].apply(lambda x: x.title())\n",
    "df['Area'] = df['Area'].apply(lambda x: x.strip())\n",
    "# df['Area'].value_counts()"
   ]
  },
  {
   "cell_type": "code",
   "execution_count": 26,
   "metadata": {},
   "outputs": [],
   "source": [
    "# Location has too many different values (4105), I don't think it has a lot of value, so i will remove it\n",
    "# df['Location'].value_counts()"
   ]
  },
  {
   "cell_type": "code",
   "execution_count": 27,
   "metadata": {},
   "outputs": [],
   "source": [
    "# removing Location col\n",
    "df.drop(columns = ['Location'], axis = 1, inplace = True)"
   ]
  },
  {
   "cell_type": "code",
   "execution_count": 28,
   "metadata": {},
   "outputs": [],
   "source": [
    "# Activity column\n",
    "df['Activity'] = df['Activity'].astype('str')\n",
    "df['Activity'] = df['Activity'].apply(lambda x: x.lower())"
   ]
  },
  {
   "cell_type": "code",
   "execution_count": 29,
   "metadata": {},
   "outputs": [],
   "source": [
    "\"\"\"\n",
    "There are too many with long descriptions, so I will choose top 150 acivities and if there \n",
    "is a word in the description apearing in those top 150 activities the description will become that word.\n",
    "\"\"\"\n",
    "acti_list = df['Activity'].unique().tolist()[:150]\n",
    "acti_list = [i for i in acti_list if i != 'nan']"
   ]
  },
  {
   "cell_type": "code",
   "execution_count": 30,
   "metadata": {},
   "outputs": [],
   "source": [
    "# acti_list"
   ]
  },
  {
   "cell_type": "code",
   "execution_count": 31,
   "metadata": {},
   "outputs": [],
   "source": [
    "def act(activ):\n",
    "    a = activ.split()\n",
    "    for word in a:\n",
    "        if word in acti_list:\n",
    "            return word\n",
    "    \n",
    "    return 'other'"
   ]
  },
  {
   "cell_type": "code",
   "execution_count": 32,
   "metadata": {},
   "outputs": [],
   "source": [
    "df['Activity'] = df['Activity'].apply(act)"
   ]
  },
  {
   "cell_type": "code",
   "execution_count": 33,
   "metadata": {},
   "outputs": [],
   "source": [
    "# df['Activity'].value_counts()"
   ]
  },
  {
   "cell_type": "code",
   "execution_count": 34,
   "metadata": {},
   "outputs": [],
   "source": [
    "# Name column has a lot of wrong names, it is very difficult to erase every name, so I will erase top 33\n",
    "# not-names and place them as Unknown\n",
    "df['Name'] = df['Name'].astype('str')\n",
    "df['Name'] = df['Name'].apply(lambda x: x.strip().title())\n",
    "names_to_erase = df['Name'].value_counts().index.tolist()[:34]"
   ]
  },
  {
   "cell_type": "code",
   "execution_count": 35,
   "metadata": {},
   "outputs": [],
   "source": [
    "def erase(name):\n",
    "    if name in names_to_erase:\n",
    "        return 'Unknown'\n",
    "    else:\n",
    "        return name\n",
    "    \n",
    "df['Name'] = df['Name'].apply(erase)"
   ]
  },
  {
   "cell_type": "code",
   "execution_count": 36,
   "metadata": {},
   "outputs": [],
   "source": [
    "# df.columns"
   ]
  },
  {
   "cell_type": "code",
   "execution_count": 37,
   "metadata": {},
   "outputs": [],
   "source": [
    "# Sex column\n",
    "df.rename(columns={'Sex ':'Sex'},inplace=True)\n",
    "df['Sex'] = df['Sex'].astype('str')"
   ]
  },
  {
   "cell_type": "code",
   "execution_count": 38,
   "metadata": {},
   "outputs": [],
   "source": [
    "# Non M or F characters will become M because they are aprox 10%, it will not make a big impact o data \n",
    "# df['Sex'].value_counts()"
   ]
  },
  {
   "cell_type": "code",
   "execution_count": 39,
   "metadata": {},
   "outputs": [],
   "source": [
    "df['Sex'] = df['Sex'].apply(lambda x: 'M' if x != 'F' else 'F')"
   ]
  },
  {
   "cell_type": "code",
   "execution_count": 40,
   "metadata": {},
   "outputs": [],
   "source": [
    "df['Age'] = df['Age'].astype('str').apply(lambda x: x.strip())"
   ]
  },
  {
   "cell_type": "code",
   "execution_count": 41,
   "metadata": {},
   "outputs": [],
   "source": [
    "def age(string):\n",
    "    if re.search('\\d+', string):\n",
    "        return re.search('\\d+', string).group()\n",
    "    else:\n",
    "        return '0'\n",
    "    \n",
    "df['Age'] = df['Age'].apply(age)\n"
   ]
  },
  {
   "cell_type": "code",
   "execution_count": 42,
   "metadata": {},
   "outputs": [],
   "source": [
    "df['Age'] = df['Age'].astype('int16')"
   ]
  },
  {
   "cell_type": "code",
   "execution_count": 43,
   "metadata": {},
   "outputs": [],
   "source": [
    "# df.columns"
   ]
  },
  {
   "cell_type": "code",
   "execution_count": 44,
   "metadata": {},
   "outputs": [],
   "source": [
    "# injury column is describing type of injury, so I will perform  basic cleaning and move on\n",
    "df['Injury'] = df['Injury'].astype('str').apply(lambda x: x.strip().capitalize())"
   ]
  },
  {
   "cell_type": "code",
   "execution_count": 45,
   "metadata": {},
   "outputs": [],
   "source": [
    "# Fatal (Y/N) column\n",
    "df['Fatal (Y/N)'] = df['Fatal (Y/N)'].astype('str').apply(lambda x: x.strip().upper())\n",
    "# df['Fatal (Y/N)'].value_counts()"
   ]
  },
  {
   "cell_type": "code",
   "execution_count": 46,
   "metadata": {},
   "outputs": [],
   "source": [
    "df['Fatal (Y/N)'] = df['Fatal (Y/N)'].apply(lambda x: 'UNKNOWN' if (x == 'NAN' or x == '2017') else ('N' if x == 'M' else x))\n",
    "# df['Fatal (Y/N)'].value_counts()"
   ]
  },
  {
   "cell_type": "code",
   "execution_count": 47,
   "metadata": {},
   "outputs": [],
   "source": [
    "df.rename(columns={'Fatal (Y/N)':'Fatal'}, inplace = True)"
   ]
  },
  {
   "cell_type": "code",
   "execution_count": 48,
   "metadata": {},
   "outputs": [],
   "source": [
    "# df.columns"
   ]
  },
  {
   "cell_type": "code",
   "execution_count": 49,
   "metadata": {},
   "outputs": [],
   "source": [
    "# Time column will be resumed into 3 moments of day\n",
    "df['Time']  = df['Time'].astype('str')"
   ]
  },
  {
   "cell_type": "code",
   "execution_count": 50,
   "metadata": {},
   "outputs": [],
   "source": [
    "def time(string):\n",
    "    hour = ''\n",
    "    if re.search('\\d\\dh\\d\\d',string):\n",
    "        hour =  re.search('\\d\\dh\\d\\d',string).group()[:2]\n",
    "        if 12 <= int(hour) < 18:\n",
    "            return 'Afternoon'\n",
    "        if 18 <= int(hour) or int(hour) < 2:\n",
    "            return 'Night'\n",
    "        if 2 <= int(hour) < 12:\n",
    "            return 'Morning'\n",
    "        \n",
    "    elif re.search('.*(afternoon|midday|evening).*',string.lower()):\n",
    "        return 'Afternoon'\n",
    "    elif re.search('.*morning.*',string.lower()):\n",
    "        return 'Morning'\n",
    "    elif re.search('.*(night|dusk).*',string.lower()):\n",
    "        return 'Night'\n",
    "\n",
    "    else:\n",
    "        return choice(['Morning','Afternoon','Night'])\n",
    "\n",
    "df['Time'] = df['Time'].apply(time)\n",
    "# df['Time'].value_counts()"
   ]
  },
  {
   "cell_type": "code",
   "execution_count": 51,
   "metadata": {},
   "outputs": [],
   "source": [
    "# Species column has too many different species input and 30% of data is missing, \n",
    "#I will drop it, because this col does not add a lot of value to df \n",
    "\n",
    "df.rename(columns = {'Species ':'Species'},inplace = True)\n",
    "df['Species'].astype('str').value_counts()\n",
    "df.drop(columns=['Species'], inplace = True)"
   ]
  },
  {
   "cell_type": "code",
   "execution_count": 52,
   "metadata": {},
   "outputs": [],
   "source": [
    "# df.head()"
   ]
  },
  {
   "cell_type": "code",
   "execution_count": 53,
   "metadata": {},
   "outputs": [],
   "source": [
    "# df.info()"
   ]
  },
  {
   "cell_type": "code",
   "execution_count": 54,
   "metadata": {},
   "outputs": [],
   "source": [
    "# investigator or source column, we will erase null rows because there are less than 50\n",
    "df = df.loc[df['Investigator or Source'].notnull()]"
   ]
  },
  {
   "cell_type": "code",
   "execution_count": 55,
   "metadata": {},
   "outputs": [],
   "source": [
    "# df.info()"
   ]
  },
  {
   "cell_type": "code",
   "execution_count": 56,
   "metadata": {},
   "outputs": [],
   "source": [
    "# href and href formula are almost exactly the same, they are equal in 6219 rows out of 6279, so we will only keep href\n",
    "df.drop(columns = ['href formula'], axis=1, inplace = True)"
   ]
  },
  {
   "cell_type": "code",
   "execution_count": 57,
   "metadata": {},
   "outputs": [],
   "source": [
    "# df.info()"
   ]
  },
  {
   "cell_type": "code",
   "execution_count": 58,
   "metadata": {},
   "outputs": [],
   "source": [
    "# df.loc[df['Case Number.1'] == df['Case Number.2']] #6259 rows match\n",
    "# df.loc[df['Case Number.1'] == df['Case Number']] #6256 rows match\n",
    "# df.loc[df['Case Number'] == df['Case Number.2']] #6276 rows match\n",
    "\n",
    "# We can get rid of las 2 cols because they almost add no value at all\n",
    "df.drop(columns=['Case Number.1','Case Number.2'], axis = 1, inplace = True)"
   ]
  },
  {
   "cell_type": "code",
   "execution_count": 59,
   "metadata": {},
   "outputs": [],
   "source": [
    "# Column original order is like a serial number for every incident, I think is valueble for the record.\n",
    "df['original order'] = df['original order'].apply(lambda x: int(x)).astype('int16')"
   ]
  },
  {
   "cell_type": "code",
   "execution_count": 60,
   "metadata": {},
   "outputs": [],
   "source": [
    "# df.info()"
   ]
  },
  {
   "cell_type": "code",
   "execution_count": 61,
   "metadata": {},
   "outputs": [],
   "source": [
    "# year column, erase 2 null rows\n",
    "df = df.loc[df['Year'].notnull()]"
   ]
  },
  {
   "cell_type": "code",
   "execution_count": 62,
   "metadata": {},
   "outputs": [],
   "source": [
    "# df['Year'].value_counts()"
   ]
  },
  {
   "cell_type": "code",
   "execution_count": 63,
   "metadata": {},
   "outputs": [],
   "source": [
    "df['Year'] = df['Year'].apply(lambda x: re.search('\\d{1,4}',str(x)).group() if re.search('\\d{1,4}',str(x)) else x)"
   ]
  },
  {
   "cell_type": "code",
   "execution_count": 64,
   "metadata": {},
   "outputs": [],
   "source": [
    "df['Year'] = df['Year'].apply(lambda x: x if int(x) > 1500 else '1500')"
   ]
  },
  {
   "cell_type": "code",
   "execution_count": 65,
   "metadata": {},
   "outputs": [],
   "source": [
    "df['Year'] = df['Year'].astype('int16')"
   ]
  },
  {
   "cell_type": "code",
   "execution_count": 66,
   "metadata": {},
   "outputs": [],
   "source": [
    "# df"
   ]
  },
  {
   "cell_type": "code",
   "execution_count": 67,
   "metadata": {},
   "outputs": [],
   "source": [
    "# date column\n",
    "df['Date'] = df['Date'].astype('str').apply(lambda x: x.strip())"
   ]
  },
  {
   "cell_type": "code",
   "execution_count": 68,
   "metadata": {},
   "outputs": [],
   "source": [
    "def date(d):\n",
    "    if re.search('\\d\\d-\\w{3}-\\d\\d\\d\\d',d):\n",
    "        try:\n",
    "            date = datetime.datetime.strptime(re.search('\\d\\d-\\w{3}-\\d\\d\\d\\d',d).group(),'%d-%b-%Y')\n",
    "        except:\n",
    "            date = datetime.datetime.strptime(re.search('\\d\\d-\\w{3}-\\d\\d\\d\\d',d).group(),'%d-%B-%Y')\n",
    "        \n",
    "    elif re.search('\\d\\d\\d\\d',d):\n",
    "        string = re.search('\\d\\d\\d\\d',d).group()\n",
    "        date = datetime.datetime.strptime(f'01-01-{string}','%d-%m-%Y')\n",
    "    \n",
    "    else:   \n",
    "        return False\n",
    "    \n",
    "    return date.date()\n",
    "\n",
    "# df.loc[df['Date'].apply(date).isnull()] # there are no null values"
   ]
  },
  {
   "cell_type": "code",
   "execution_count": 69,
   "metadata": {},
   "outputs": [],
   "source": [
    "# Erasing 17 rows of strange dates\n",
    "# df.loc[df['Date'].apply(date) == False].info()\n",
    "df = df.loc[df['Date'].apply(date) != False]\n",
    "df['Date'] = df['Date'].apply(date)"
   ]
  },
  {
   "cell_type": "code",
   "execution_count": 70,
   "metadata": {},
   "outputs": [],
   "source": [
    "# Actually, year is not longer needed, because we can extracted fron date col\n",
    "df.drop(columns = ['Year'], axis = 1,inplace = True)"
   ]
  },
  {
   "cell_type": "code",
   "execution_count": 71,
   "metadata": {},
   "outputs": [],
   "source": [
    "# df.head()"
   ]
  },
  {
   "cell_type": "code",
   "execution_count": 73,
   "metadata": {},
   "outputs": [],
   "source": [
    "# Exporting to csv\n",
    "df.to_csv('file.csv',index = False)"
   ]
  },
  {
   "cell_type": "code",
   "execution_count": null,
   "metadata": {},
   "outputs": [],
   "source": []
  }
 ],
 "metadata": {
  "kernelspec": {
   "display_name": "Python 3",
   "language": "python",
   "name": "python3"
  },
  "language_info": {
   "codemirror_mode": {
    "name": "ipython",
    "version": 3
   },
   "file_extension": ".py",
   "mimetype": "text/x-python",
   "name": "python",
   "nbconvert_exporter": "python",
   "pygments_lexer": "ipython3",
   "version": "3.8.3"
  }
 },
 "nbformat": 4,
 "nbformat_minor": 4
}
