{
 "cells": [
  {
   "cell_type": "markdown",
   "metadata": {},
   "source": [
    "# Challenge: Promotions\n",
    "\n",
    "In this challenge, you'll develop codes to parse and analyze data returned from another API on Zalando such as [Promos homme (Men's Promotions)\n",
    "](https://www.zalando.fr/promo-homme/) or [Promos femme (Women's Promotions)](https://www.zalando.fr/promo-femme/). The workflow is almost the same as in the guided lesson but you'll work with different data."
   ]
  },
  {
   "cell_type": "markdown",
   "metadata": {},
   "source": [
    "Lo que hice fue descargar datos de la API de Rick and Morty y obtuve el episodio con mayor cantidad de personajes y el personaje que ha salido en la mayor cantidad de episodios"
   ]
  },
  {
   "cell_type": "code",
   "execution_count": 92,
   "metadata": {},
   "outputs": [],
   "source": [
    "# your code here\n",
    "import json\n",
    "import requests\n",
    "import pandas as pd\n",
    "from pandas.io.json import json_normalize"
   ]
  },
  {
   "cell_type": "code",
   "execution_count": 93,
   "metadata": {},
   "outputs": [],
   "source": [
    "url = 'https://rickandmortyapi.com/api/'"
   ]
  },
  {
   "cell_type": "code",
   "execution_count": 94,
   "metadata": {},
   "outputs": [],
   "source": [
    "res_json = requests.get(url+'/character?page=1').json()"
   ]
  },
  {
   "cell_type": "code",
   "execution_count": 95,
   "metadata": {},
   "outputs": [
    {
     "data": {
      "text/plain": [
       "dict_keys(['info', 'results'])"
      ]
     },
     "execution_count": 95,
     "metadata": {},
     "output_type": "execute_result"
    }
   ],
   "source": [
    "res_json.keys()"
   ]
  },
  {
   "cell_type": "code",
   "execution_count": 96,
   "metadata": {},
   "outputs": [
    {
     "data": {
      "text/plain": [
       "{'count': 671,\n",
       " 'pages': 34,\n",
       " 'next': 'https://rickandmortyapi.com/api/character?page=2',\n",
       " 'prev': None}"
      ]
     },
     "execution_count": 96,
     "metadata": {},
     "output_type": "execute_result"
    }
   ],
   "source": [
    "res_json['info'] #There are 671 characters end they are spread in 34 web pages, I will extract all of them..."
   ]
  },
  {
   "cell_type": "code",
   "execution_count": 97,
   "metadata": {},
   "outputs": [
    {
     "name": "stdout",
     "output_type": "stream",
     "text": [
      "Pages...1,2,3,4,5,6,7,8,9,10,11,12,13,14,15,16,17,18,19,20,21,22,23,24,25,26,27,28,29,30,31,32,33,34,Done with pages.\n"
     ]
    }
   ],
   "source": [
    "#Extracting all characters...\n",
    "characters = []\n",
    "url = 'https://rickandmortyapi.com/api/character'\n",
    "print('Pages...', end = '')\n",
    "\n",
    "for page in range(1,requests.get(url).json()['info']['pages']+1):\n",
    "    res = requests.get(f'{url}?page={page}')\n",
    "    print(f'{page}', end = ',')\n",
    "    \n",
    "    res_json = res.json()['results']\n",
    "    characters.extend(res_json)\n",
    "print('Done with pages.')    "
   ]
  },
  {
   "cell_type": "code",
   "execution_count": 98,
   "metadata": {},
   "outputs": [
    {
     "name": "stdout",
     "output_type": "stream",
     "text": [
      "Pages...1,2,3,Done with pages.\n"
     ]
    }
   ],
   "source": [
    "#Extracting all episodes...\n",
    "episodes = []\n",
    "url = 'https://rickandmortyapi.com/api/episode'\n",
    "print('Pages...', end = '')\n",
    "\n",
    "for page in range(1,requests.get(url).json()['info']['pages']+1):\n",
    "    res = requests.get(f'{url}?page={page}')\n",
    "    print(f'{page}', end = ',')\n",
    "    \n",
    "    res_json = res.json()['results']\n",
    "    episodes.extend(res_json)\n",
    "print('Done with pages.')    "
   ]
  },
  {
   "cell_type": "code",
   "execution_count": 99,
   "metadata": {},
   "outputs": [],
   "source": [
    "df_char = pd.json_normalize(characters)\n",
    "df_epis = pd.json_normalize(episodes)"
   ]
  },
  {
   "cell_type": "code",
   "execution_count": 105,
   "metadata": {},
   "outputs": [],
   "source": [
    "# df_epis.head()"
   ]
  },
  {
   "cell_type": "code",
   "execution_count": 101,
   "metadata": {},
   "outputs": [],
   "source": [
    "char_per_episode = []\n",
    "for c in df_epis['characters']:\n",
    "    char_per_episode.append(len(c))"
   ]
  },
  {
   "cell_type": "code",
   "execution_count": 102,
   "metadata": {},
   "outputs": [],
   "source": [
    "df_epis['n_characters'] = char_per_episode"
   ]
  },
  {
   "cell_type": "code",
   "execution_count": 103,
   "metadata": {},
   "outputs": [
    {
     "data": {
      "text/html": [
       "<div>\n",
       "<style scoped>\n",
       "    .dataframe tbody tr th:only-of-type {\n",
       "        vertical-align: middle;\n",
       "    }\n",
       "\n",
       "    .dataframe tbody tr th {\n",
       "        vertical-align: top;\n",
       "    }\n",
       "\n",
       "    .dataframe thead th {\n",
       "        text-align: right;\n",
       "    }\n",
       "</style>\n",
       "<table border=\"1\" class=\"dataframe\">\n",
       "  <thead>\n",
       "    <tr style=\"text-align: right;\">\n",
       "      <th></th>\n",
       "      <th>id</th>\n",
       "      <th>name</th>\n",
       "      <th>air_date</th>\n",
       "      <th>episode</th>\n",
       "      <th>characters</th>\n",
       "      <th>url</th>\n",
       "      <th>created</th>\n",
       "      <th>n_characters</th>\n",
       "    </tr>\n",
       "  </thead>\n",
       "  <tbody>\n",
       "    <tr>\n",
       "      <th>27</th>\n",
       "      <td>28</td>\n",
       "      <td>The Ricklantis Mixup</td>\n",
       "      <td>September 10, 2017</td>\n",
       "      <td>S03E07</td>\n",
       "      <td>[https://rickandmortyapi.com/api/character/1, ...</td>\n",
       "      <td>https://rickandmortyapi.com/api/episode/28</td>\n",
       "      <td>2017-11-10T12:56:36.618Z</td>\n",
       "      <td>65</td>\n",
       "    </tr>\n",
       "    <tr>\n",
       "      <th>9</th>\n",
       "      <td>10</td>\n",
       "      <td>Close Rick-counters of the Rick Kind</td>\n",
       "      <td>April 7, 2014</td>\n",
       "      <td>S01E10</td>\n",
       "      <td>[https://rickandmortyapi.com/api/character/1, ...</td>\n",
       "      <td>https://rickandmortyapi.com/api/episode/10</td>\n",
       "      <td>2017-11-10T12:56:34.747Z</td>\n",
       "      <td>61</td>\n",
       "    </tr>\n",
       "    <tr>\n",
       "      <th>7</th>\n",
       "      <td>8</td>\n",
       "      <td>Rixty Minutes</td>\n",
       "      <td>March 17, 2014</td>\n",
       "      <td>S01E08</td>\n",
       "      <td>[https://rickandmortyapi.com/api/character/1, ...</td>\n",
       "      <td>https://rickandmortyapi.com/api/episode/8</td>\n",
       "      <td>2017-11-10T12:56:34.543Z</td>\n",
       "      <td>57</td>\n",
       "    </tr>\n",
       "    <tr>\n",
       "      <th>36</th>\n",
       "      <td>37</td>\n",
       "      <td>Never Ricking Morty</td>\n",
       "      <td>May 3, 2020</td>\n",
       "      <td>S04E06</td>\n",
       "      <td>[https://rickandmortyapi.com/api/character/593...</td>\n",
       "      <td>https://rickandmortyapi.com/api/episode/37</td>\n",
       "      <td>2020-08-06T05:44:21.422Z</td>\n",
       "      <td>49</td>\n",
       "    </tr>\n",
       "    <tr>\n",
       "      <th>21</th>\n",
       "      <td>22</td>\n",
       "      <td>The Rickshank Rickdemption</td>\n",
       "      <td>April 1, 2017</td>\n",
       "      <td>S03E01</td>\n",
       "      <td>[https://rickandmortyapi.com/api/character/1, ...</td>\n",
       "      <td>https://rickandmortyapi.com/api/episode/22</td>\n",
       "      <td>2017-11-10T12:56:35.983Z</td>\n",
       "      <td>44</td>\n",
       "    </tr>\n",
       "  </tbody>\n",
       "</table>\n",
       "</div>"
      ],
      "text/plain": [
       "    id                                  name            air_date episode  \\\n",
       "27  28                  The Ricklantis Mixup  September 10, 2017  S03E07   \n",
       "9   10  Close Rick-counters of the Rick Kind       April 7, 2014  S01E10   \n",
       "7    8                         Rixty Minutes      March 17, 2014  S01E08   \n",
       "36  37                   Never Ricking Morty         May 3, 2020  S04E06   \n",
       "21  22            The Rickshank Rickdemption       April 1, 2017  S03E01   \n",
       "\n",
       "                                           characters  \\\n",
       "27  [https://rickandmortyapi.com/api/character/1, ...   \n",
       "9   [https://rickandmortyapi.com/api/character/1, ...   \n",
       "7   [https://rickandmortyapi.com/api/character/1, ...   \n",
       "36  [https://rickandmortyapi.com/api/character/593...   \n",
       "21  [https://rickandmortyapi.com/api/character/1, ...   \n",
       "\n",
       "                                           url                   created  \\\n",
       "27  https://rickandmortyapi.com/api/episode/28  2017-11-10T12:56:36.618Z   \n",
       "9   https://rickandmortyapi.com/api/episode/10  2017-11-10T12:56:34.747Z   \n",
       "7    https://rickandmortyapi.com/api/episode/8  2017-11-10T12:56:34.543Z   \n",
       "36  https://rickandmortyapi.com/api/episode/37  2020-08-06T05:44:21.422Z   \n",
       "21  https://rickandmortyapi.com/api/episode/22  2017-11-10T12:56:35.983Z   \n",
       "\n",
       "    n_characters  \n",
       "27            65  \n",
       "9             61  \n",
       "7             57  \n",
       "36            49  \n",
       "21            44  "
      ]
     },
     "execution_count": 103,
     "metadata": {},
     "output_type": "execute_result"
    }
   ],
   "source": [
    "df_epis.sort_values(by = 'n_characters',ascending = False).head()\n",
    "# episode 28 is the one where more characters have appeared."
   ]
  },
  {
   "cell_type": "code",
   "execution_count": 112,
   "metadata": {},
   "outputs": [],
   "source": [
    "# df_char.head()"
   ]
  },
  {
   "cell_type": "code",
   "execution_count": 108,
   "metadata": {},
   "outputs": [],
   "source": [
    "episodes_per_char = []\n",
    "for e in df_char['episode']:\n",
    "    episodes_per_char.append(len(e))"
   ]
  },
  {
   "cell_type": "code",
   "execution_count": 110,
   "metadata": {},
   "outputs": [],
   "source": [
    "df_char['n_episodes'] = episodes_per_char"
   ]
  },
  {
   "cell_type": "code",
   "execution_count": 114,
   "metadata": {},
   "outputs": [
    {
     "data": {
      "text/html": [
       "<div>\n",
       "<style scoped>\n",
       "    .dataframe tbody tr th:only-of-type {\n",
       "        vertical-align: middle;\n",
       "    }\n",
       "\n",
       "    .dataframe tbody tr th {\n",
       "        vertical-align: top;\n",
       "    }\n",
       "\n",
       "    .dataframe thead th {\n",
       "        text-align: right;\n",
       "    }\n",
       "</style>\n",
       "<table border=\"1\" class=\"dataframe\">\n",
       "  <thead>\n",
       "    <tr style=\"text-align: right;\">\n",
       "      <th></th>\n",
       "      <th>id</th>\n",
       "      <th>name</th>\n",
       "      <th>status</th>\n",
       "      <th>species</th>\n",
       "      <th>type</th>\n",
       "      <th>gender</th>\n",
       "      <th>image</th>\n",
       "      <th>episode</th>\n",
       "      <th>url</th>\n",
       "      <th>created</th>\n",
       "      <th>origin.name</th>\n",
       "      <th>origin.url</th>\n",
       "      <th>location.name</th>\n",
       "      <th>location.url</th>\n",
       "      <th>n_episodes</th>\n",
       "    </tr>\n",
       "  </thead>\n",
       "  <tbody>\n",
       "    <tr>\n",
       "      <th>0</th>\n",
       "      <td>1</td>\n",
       "      <td>Rick Sanchez</td>\n",
       "      <td>Alive</td>\n",
       "      <td>Human</td>\n",
       "      <td></td>\n",
       "      <td>Male</td>\n",
       "      <td>https://rickandmortyapi.com/api/character/avat...</td>\n",
       "      <td>[https://rickandmortyapi.com/api/episode/1, ht...</td>\n",
       "      <td>https://rickandmortyapi.com/api/character/1</td>\n",
       "      <td>2017-11-04T18:48:46.250Z</td>\n",
       "      <td>Earth (C-137)</td>\n",
       "      <td>https://rickandmortyapi.com/api/location/1</td>\n",
       "      <td>Earth (Replacement Dimension)</td>\n",
       "      <td>https://rickandmortyapi.com/api/location/20</td>\n",
       "      <td>41</td>\n",
       "    </tr>\n",
       "    <tr>\n",
       "      <th>1</th>\n",
       "      <td>2</td>\n",
       "      <td>Morty Smith</td>\n",
       "      <td>Alive</td>\n",
       "      <td>Human</td>\n",
       "      <td></td>\n",
       "      <td>Male</td>\n",
       "      <td>https://rickandmortyapi.com/api/character/avat...</td>\n",
       "      <td>[https://rickandmortyapi.com/api/episode/1, ht...</td>\n",
       "      <td>https://rickandmortyapi.com/api/character/2</td>\n",
       "      <td>2017-11-04T18:50:21.651Z</td>\n",
       "      <td>Earth (C-137)</td>\n",
       "      <td>https://rickandmortyapi.com/api/location/1</td>\n",
       "      <td>Earth (Replacement Dimension)</td>\n",
       "      <td>https://rickandmortyapi.com/api/location/20</td>\n",
       "      <td>41</td>\n",
       "    </tr>\n",
       "    <tr>\n",
       "      <th>2</th>\n",
       "      <td>3</td>\n",
       "      <td>Summer Smith</td>\n",
       "      <td>Alive</td>\n",
       "      <td>Human</td>\n",
       "      <td></td>\n",
       "      <td>Female</td>\n",
       "      <td>https://rickandmortyapi.com/api/character/avat...</td>\n",
       "      <td>[https://rickandmortyapi.com/api/episode/6, ht...</td>\n",
       "      <td>https://rickandmortyapi.com/api/character/3</td>\n",
       "      <td>2017-11-04T19:09:56.428Z</td>\n",
       "      <td>Earth (Replacement Dimension)</td>\n",
       "      <td>https://rickandmortyapi.com/api/location/20</td>\n",
       "      <td>Earth (Replacement Dimension)</td>\n",
       "      <td>https://rickandmortyapi.com/api/location/20</td>\n",
       "      <td>33</td>\n",
       "    </tr>\n",
       "    <tr>\n",
       "      <th>3</th>\n",
       "      <td>4</td>\n",
       "      <td>Beth Smith</td>\n",
       "      <td>Alive</td>\n",
       "      <td>Human</td>\n",
       "      <td></td>\n",
       "      <td>Female</td>\n",
       "      <td>https://rickandmortyapi.com/api/character/avat...</td>\n",
       "      <td>[https://rickandmortyapi.com/api/episode/6, ht...</td>\n",
       "      <td>https://rickandmortyapi.com/api/character/4</td>\n",
       "      <td>2017-11-04T19:22:43.665Z</td>\n",
       "      <td>Earth (Replacement Dimension)</td>\n",
       "      <td>https://rickandmortyapi.com/api/location/20</td>\n",
       "      <td>Earth (Replacement Dimension)</td>\n",
       "      <td>https://rickandmortyapi.com/api/location/20</td>\n",
       "      <td>33</td>\n",
       "    </tr>\n",
       "    <tr>\n",
       "      <th>4</th>\n",
       "      <td>5</td>\n",
       "      <td>Jerry Smith</td>\n",
       "      <td>Alive</td>\n",
       "      <td>Human</td>\n",
       "      <td></td>\n",
       "      <td>Male</td>\n",
       "      <td>https://rickandmortyapi.com/api/character/avat...</td>\n",
       "      <td>[https://rickandmortyapi.com/api/episode/6, ht...</td>\n",
       "      <td>https://rickandmortyapi.com/api/character/5</td>\n",
       "      <td>2017-11-04T19:26:56.301Z</td>\n",
       "      <td>Earth (Replacement Dimension)</td>\n",
       "      <td>https://rickandmortyapi.com/api/location/20</td>\n",
       "      <td>Earth (Replacement Dimension)</td>\n",
       "      <td>https://rickandmortyapi.com/api/location/20</td>\n",
       "      <td>29</td>\n",
       "    </tr>\n",
       "  </tbody>\n",
       "</table>\n",
       "</div>"
      ],
      "text/plain": [
       "   id          name status species type  gender  \\\n",
       "0   1  Rick Sanchez  Alive   Human         Male   \n",
       "1   2   Morty Smith  Alive   Human         Male   \n",
       "2   3  Summer Smith  Alive   Human       Female   \n",
       "3   4    Beth Smith  Alive   Human       Female   \n",
       "4   5   Jerry Smith  Alive   Human         Male   \n",
       "\n",
       "                                               image  \\\n",
       "0  https://rickandmortyapi.com/api/character/avat...   \n",
       "1  https://rickandmortyapi.com/api/character/avat...   \n",
       "2  https://rickandmortyapi.com/api/character/avat...   \n",
       "3  https://rickandmortyapi.com/api/character/avat...   \n",
       "4  https://rickandmortyapi.com/api/character/avat...   \n",
       "\n",
       "                                             episode  \\\n",
       "0  [https://rickandmortyapi.com/api/episode/1, ht...   \n",
       "1  [https://rickandmortyapi.com/api/episode/1, ht...   \n",
       "2  [https://rickandmortyapi.com/api/episode/6, ht...   \n",
       "3  [https://rickandmortyapi.com/api/episode/6, ht...   \n",
       "4  [https://rickandmortyapi.com/api/episode/6, ht...   \n",
       "\n",
       "                                           url                   created  \\\n",
       "0  https://rickandmortyapi.com/api/character/1  2017-11-04T18:48:46.250Z   \n",
       "1  https://rickandmortyapi.com/api/character/2  2017-11-04T18:50:21.651Z   \n",
       "2  https://rickandmortyapi.com/api/character/3  2017-11-04T19:09:56.428Z   \n",
       "3  https://rickandmortyapi.com/api/character/4  2017-11-04T19:22:43.665Z   \n",
       "4  https://rickandmortyapi.com/api/character/5  2017-11-04T19:26:56.301Z   \n",
       "\n",
       "                     origin.name                                   origin.url  \\\n",
       "0                  Earth (C-137)   https://rickandmortyapi.com/api/location/1   \n",
       "1                  Earth (C-137)   https://rickandmortyapi.com/api/location/1   \n",
       "2  Earth (Replacement Dimension)  https://rickandmortyapi.com/api/location/20   \n",
       "3  Earth (Replacement Dimension)  https://rickandmortyapi.com/api/location/20   \n",
       "4  Earth (Replacement Dimension)  https://rickandmortyapi.com/api/location/20   \n",
       "\n",
       "                   location.name                                 location.url  \\\n",
       "0  Earth (Replacement Dimension)  https://rickandmortyapi.com/api/location/20   \n",
       "1  Earth (Replacement Dimension)  https://rickandmortyapi.com/api/location/20   \n",
       "2  Earth (Replacement Dimension)  https://rickandmortyapi.com/api/location/20   \n",
       "3  Earth (Replacement Dimension)  https://rickandmortyapi.com/api/location/20   \n",
       "4  Earth (Replacement Dimension)  https://rickandmortyapi.com/api/location/20   \n",
       "\n",
       "   n_episodes  \n",
       "0          41  \n",
       "1          41  \n",
       "2          33  \n",
       "3          33  \n",
       "4          29  "
      ]
     },
     "execution_count": 114,
     "metadata": {},
     "output_type": "execute_result"
    }
   ],
   "source": [
    "df_char.sort_values(by = 'n_episodes',ascending = False).head()\n",
    "# Rick and Morty are the ones that have appeard in more episodes (obviosly)"
   ]
  },
  {
   "cell_type": "code",
   "execution_count": 134,
   "metadata": {},
   "outputs": [
    {
     "data": {
      "text/html": [
       "<div>\n",
       "<style scoped>\n",
       "    .dataframe tbody tr th:only-of-type {\n",
       "        vertical-align: middle;\n",
       "    }\n",
       "\n",
       "    .dataframe tbody tr th {\n",
       "        vertical-align: top;\n",
       "    }\n",
       "\n",
       "    .dataframe thead th {\n",
       "        text-align: right;\n",
       "    }\n",
       "</style>\n",
       "<table border=\"1\" class=\"dataframe\">\n",
       "  <thead>\n",
       "    <tr style=\"text-align: right;\">\n",
       "      <th></th>\n",
       "      <th>id</th>\n",
       "      <th>name</th>\n",
       "      <th>status</th>\n",
       "      <th>species</th>\n",
       "      <th>type</th>\n",
       "      <th>gender</th>\n",
       "      <th>image</th>\n",
       "      <th>episode</th>\n",
       "      <th>url</th>\n",
       "      <th>created</th>\n",
       "      <th>origin.name</th>\n",
       "      <th>origin.url</th>\n",
       "      <th>location.name</th>\n",
       "      <th>location.url</th>\n",
       "      <th>n_episodes</th>\n",
       "    </tr>\n",
       "  </thead>\n",
       "  <tbody>\n",
       "    <tr>\n",
       "      <th>243</th>\n",
       "      <td>244</td>\n",
       "      <td>Mr. Poopybutthole</td>\n",
       "      <td>Alive</td>\n",
       "      <td>Poopybutthole</td>\n",
       "      <td></td>\n",
       "      <td>Male</td>\n",
       "      <td>https://rickandmortyapi.com/api/character/avat...</td>\n",
       "      <td>[https://rickandmortyapi.com/api/episode/15, h...</td>\n",
       "      <td>https://rickandmortyapi.com/api/character/244</td>\n",
       "      <td>2017-12-30T18:03:48.054Z</td>\n",
       "      <td>unknown</td>\n",
       "      <td></td>\n",
       "      <td>Earth (Replacement Dimension)</td>\n",
       "      <td>https://rickandmortyapi.com/api/location/20</td>\n",
       "      <td>6</td>\n",
       "    </tr>\n",
       "  </tbody>\n",
       "</table>\n",
       "</div>"
      ],
      "text/plain": [
       "      id               name status        species type gender  \\\n",
       "243  244  Mr. Poopybutthole  Alive  Poopybutthole        Male   \n",
       "\n",
       "                                                 image  \\\n",
       "243  https://rickandmortyapi.com/api/character/avat...   \n",
       "\n",
       "                                               episode  \\\n",
       "243  [https://rickandmortyapi.com/api/episode/15, h...   \n",
       "\n",
       "                                               url                   created  \\\n",
       "243  https://rickandmortyapi.com/api/character/244  2017-12-30T18:03:48.054Z   \n",
       "\n",
       "    origin.name origin.url                  location.name  \\\n",
       "243     unknown             Earth (Replacement Dimension)   \n",
       "\n",
       "                                    location.url  n_episodes  \n",
       "243  https://rickandmortyapi.com/api/location/20           6  "
      ]
     },
     "execution_count": 134,
     "metadata": {},
     "output_type": "execute_result"
    }
   ],
   "source": [
    "# And for the fans.... Mr. Poopybutthole info...\n",
    "df_char.loc[df_char['name']== 'Mr. Poopybutthole']"
   ]
  },
  {
   "cell_type": "code",
   "execution_count": null,
   "metadata": {},
   "outputs": [],
   "source": []
  }
 ],
 "metadata": {
  "kernelspec": {
   "display_name": "Python 3",
   "language": "python",
   "name": "python3"
  },
  "language_info": {
   "codemirror_mode": {
    "name": "ipython",
    "version": 3
   },
   "file_extension": ".py",
   "mimetype": "text/x-python",
   "name": "python",
   "nbconvert_exporter": "python",
   "pygments_lexer": "ipython3",
   "version": "3.8.3"
  }
 },
 "nbformat": 4,
 "nbformat_minor": 2
}
